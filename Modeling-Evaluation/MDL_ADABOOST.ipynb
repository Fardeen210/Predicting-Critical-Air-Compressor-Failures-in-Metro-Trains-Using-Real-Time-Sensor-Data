{
 "cells": [
  {
   "cell_type": "markdown",
   "id": "9c76cf6a-f220-464b-859c-4a349291e8e7",
   "metadata": {},
   "source": [
    "### MODEL TRAINING - ADABOOST"
   ]
  },
  {
   "cell_type": "code",
   "execution_count": 2,
   "id": "422d5283-df32-4611-9985-682499261154",
   "metadata": {},
   "outputs": [],
   "source": [
    "path=r'C:\\Users\\abcha\\anaconda_projects\\ADTA_5340\\Project_Metro-PT3\\Final\\EDA_FILE.csv'"
   ]
  },
  {
   "cell_type": "code",
   "execution_count": 3,
   "id": "382ace68-5ea0-4eb1-a755-aff1e2f9f2cb",
   "metadata": {},
   "outputs": [],
   "source": [
    "# Import packages and data\n",
    "import pandas as pd\n",
    "import numpy as np\n",
    "from sklearn.metrics import accuracy_score, classification_report, confusion_matrix\n",
    "from sklearn.model_selection import train_test_split\n",
    "from sklearn.tree import DecisionTreeClassifier\n",
    "from sklearn.naive_bayes import GaussianNB\n",
    "from sklearn.ensemble import AdaBoostClassifier"
   ]
  },
  {
   "cell_type": "code",
   "execution_count": 4,
   "id": "71ed69b9-5c5d-4b44-81a5-063bf0ef3793",
   "metadata": {},
   "outputs": [
    {
     "name": "stdout",
     "output_type": "stream",
     "text": [
      "<class 'pandas.core.frame.DataFrame'>\n",
      "RangeIndex: 129954 entries, 0 to 129953\n",
      "Data columns (total 16 columns):\n",
      " #   Column           Non-Null Count   Dtype  \n",
      "---  ------           --------------   -----  \n",
      " 0   TP2              129954 non-null  float64\n",
      " 1   TP3              129954 non-null  float64\n",
      " 2   H1               129954 non-null  float64\n",
      " 3   DV_pressure      129954 non-null  float64\n",
      " 4   Reservoirs       129954 non-null  float64\n",
      " 5   Oil_temperature  129954 non-null  float64\n",
      " 6   Motor_current    129954 non-null  float64\n",
      " 7   COMP             129954 non-null  float64\n",
      " 8   DV_eletric       129954 non-null  float64\n",
      " 9   Towers           129954 non-null  float64\n",
      " 10  MPG              129954 non-null  float64\n",
      " 11  LPS              129954 non-null  float64\n",
      " 12  Pressure_switch  129954 non-null  float64\n",
      " 13  Oil_level        129954 non-null  float64\n",
      " 14  Caudal_impulses  129954 non-null  float64\n",
      " 15  failure_label    129954 non-null  int64  \n",
      "dtypes: float64(15), int64(1)\n",
      "memory usage: 15.9 MB\n"
     ]
    }
   ],
   "source": [
    "# Import data\n",
    "clean_df = pd.read_csv(path)\n",
    "clean_df.info()"
   ]
  },
  {
   "cell_type": "code",
   "execution_count": 5,
   "id": "0108cc30-930d-47d9-8b4e-a7efe28a4905",
   "metadata": {},
   "outputs": [],
   "source": [
    "# y = output features\n",
    "y = clean_df['failure_label']\n",
    "\n",
    "# X = input features\n",
    "X = clean_df.drop(['failure_label'], axis=1)"
   ]
  },
  {
   "cell_type": "code",
   "execution_count": 6,
   "id": "13513145-0ac5-43a9-bb1d-27de125a83f9",
   "metadata": {},
   "outputs": [
    {
     "name": "stdout",
     "output_type": "stream",
     "text": [
      "Train set shape: (90967, 15) (90967,)\n",
      "Test set shape: (38987, 15) (38987,)\n"
     ]
    }
   ],
   "source": [
    "# Create a training/testing split\n",
    "X_train, X_test, y_train, y_test = train_test_split(\n",
    "    X, y, test_size=0.3, random_state=42\n",
    ")\n",
    "\n",
    "# Shapes of the resulting sets\n",
    "print(\"Train set shape:\", X_train.shape, y_train.shape)\n",
    "print(\"Test set shape:\", X_test.shape, y_test.shape)"
   ]
  },
  {
   "cell_type": "code",
   "execution_count": 7,
   "id": "758e652b-0cad-4f26-91d9-f3341d4500b2",
   "metadata": {},
   "outputs": [
    {
     "name": "stderr",
     "output_type": "stream",
     "text": [
      "C:\\Users\\abcha\\anaconda3\\Lib\\site-packages\\sklearn\\ensemble\\_weight_boosting.py:527: FutureWarning: The SAMME.R algorithm (the default) is deprecated and will be removed in 1.6. Use the SAMME algorithm to circumvent this warning.\n",
      "  warnings.warn(\n"
     ]
    }
   ],
   "source": [
    "# Initialize the model\n",
    "boostModel = AdaBoostClassifier()\n",
    "\n",
    "# Fit the model\n",
    "boostModel = boostModel.fit(X_train, np.ravel(y_train))"
   ]
  },
  {
   "cell_type": "code",
   "execution_count": 8,
   "id": "90c6c7ed-ea0f-4fe8-b111-2b798cf6fc3b",
   "metadata": {},
   "outputs": [
    {
     "data": {
      "text/plain": [
       "0.9918871678740642"
      ]
     },
     "execution_count": 8,
     "metadata": {},
     "output_type": "execute_result"
    }
   ],
   "source": [
    "# Prediction accuracy for AdaBoostClassifier()\n",
    "boostModel.score(X_train, y_train)"
   ]
  },
  {
   "cell_type": "code",
   "execution_count": 9,
   "id": "ba5d5397-9128-4f95-8710-ac33279cf084",
   "metadata": {},
   "outputs": [
    {
     "data": {
      "text/plain": [
       "0.9913047939056608"
      ]
     },
     "execution_count": 9,
     "metadata": {},
     "output_type": "execute_result"
    }
   ],
   "source": [
    "# Prediction accuracy for AdaBoostClassifier()\n",
    "boostModel.score(X_test, y_test)"
   ]
  }
 ],
 "metadata": {
  "kernelspec": {
   "display_name": "Python [conda env:base] *",
   "language": "python",
   "name": "conda-base-py"
  },
  "language_info": {
   "codemirror_mode": {
    "name": "ipython",
    "version": 3
   },
   "file_extension": ".py",
   "mimetype": "text/x-python",
   "name": "python",
   "nbconvert_exporter": "python",
   "pygments_lexer": "ipython3",
   "version": "3.12.7"
  }
 },
 "nbformat": 4,
 "nbformat_minor": 5
}
