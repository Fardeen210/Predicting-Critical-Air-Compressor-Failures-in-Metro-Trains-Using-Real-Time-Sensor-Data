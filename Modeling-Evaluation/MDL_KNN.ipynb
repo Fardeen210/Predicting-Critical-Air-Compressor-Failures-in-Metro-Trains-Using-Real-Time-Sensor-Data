{
 "cells": [
  {
   "cell_type": "markdown",
   "id": "ba57ee8f-6eeb-4b00-ad47-4d7e22a91d32",
   "metadata": {},
   "source": [
    "### MODEL TRAINING - KNN"
   ]
  },
  {
   "cell_type": "code",
   "execution_count": 2,
   "id": "743e466d-3061-49d2-bedd-681320f44454",
   "metadata": {},
   "outputs": [],
   "source": [
    "path=r'C:\\Users\\abcha\\anaconda_projects\\ADTA_5340\\Project_Metro-PT3\\Final\\EDA_FILE.csv'"
   ]
  },
  {
   "cell_type": "code",
   "execution_count": 3,
   "id": "e013a37b-04e1-4365-87ba-fc09c810c1c1",
   "metadata": {},
   "outputs": [],
   "source": [
    "# Import packages \n",
    "import pandas as pd\n",
    "import numpy as np\n",
    "import matplotlib.pyplot as plt\n",
    "import seaborn as sns\n",
    "from datetime import datetime, timedelta\n",
    "from sklearn.metrics import accuracy_score, classification_report, confusion_matrix\n",
    "from sklearn.model_selection import train_test_split\n",
    "from sklearn.neighbors import KNeighborsClassifier\n",
    "from sklearn.preprocessing import StandardScaler"
   ]
  },
  {
   "cell_type": "code",
   "execution_count": 4,
   "id": "7b239e34-8785-4d81-b15e-b43769bc6a4f",
   "metadata": {},
   "outputs": [
    {
     "name": "stdout",
     "output_type": "stream",
     "text": [
      "<class 'pandas.core.frame.DataFrame'>\n",
      "RangeIndex: 129954 entries, 0 to 129953\n",
      "Data columns (total 16 columns):\n",
      " #   Column           Non-Null Count   Dtype  \n",
      "---  ------           --------------   -----  \n",
      " 0   TP2              129954 non-null  float64\n",
      " 1   TP3              129954 non-null  float64\n",
      " 2   H1               129954 non-null  float64\n",
      " 3   DV_pressure      129954 non-null  float64\n",
      " 4   Reservoirs       129954 non-null  float64\n",
      " 5   Oil_temperature  129954 non-null  float64\n",
      " 6   Motor_current    129954 non-null  float64\n",
      " 7   COMP             129954 non-null  float64\n",
      " 8   DV_eletric       129954 non-null  float64\n",
      " 9   Towers           129954 non-null  float64\n",
      " 10  MPG              129954 non-null  float64\n",
      " 11  LPS              129954 non-null  float64\n",
      " 12  Pressure_switch  129954 non-null  float64\n",
      " 13  Oil_level        129954 non-null  float64\n",
      " 14  Caudal_impulses  129954 non-null  float64\n",
      " 15  failure_label    129954 non-null  int64  \n",
      "dtypes: float64(15), int64(1)\n",
      "memory usage: 15.9 MB\n"
     ]
    }
   ],
   "source": [
    "# Import data\n",
    "clean_df = pd.read_csv(path)\n",
    "clean_df.info()"
   ]
  },
  {
   "cell_type": "code",
   "execution_count": 5,
   "id": "5570c66a-c627-4f02-a873-02339b5b6a14",
   "metadata": {},
   "outputs": [],
   "source": [
    "# y = output features\n",
    "y = clean_df['failure_label']\n",
    "\n",
    "# X = input features\n",
    "X = clean_df.drop(['failure_label'], axis=1)"
   ]
  },
  {
   "cell_type": "code",
   "execution_count": 6,
   "id": "9a5bb29f-3199-4882-bf12-d2d84124d5de",
   "metadata": {},
   "outputs": [
    {
     "name": "stdout",
     "output_type": "stream",
     "text": [
      "Train set shape: (90967, 15) (90967,)\n",
      "Test set shape: (38987, 15) (38987,)\n"
     ]
    }
   ],
   "source": [
    "# Create a training/testing split\n",
    "X_train, X_test, y_train, y_test = train_test_split(\n",
    "    X, y, test_size=0.3, random_state=42\n",
    ")\n",
    "\n",
    "# Shapes of the resulting sets\n",
    "print(\"Train set shape:\", X_train.shape, y_train.shape)\n",
    "print(\"Test set shape:\", X_test.shape, y_test.shape)"
   ]
  },
  {
   "cell_type": "code",
   "execution_count": 7,
   "id": "bea3bb06-d3c3-46ea-b059-5ccfd9044274",
   "metadata": {},
   "outputs": [],
   "source": [
    "# Scale data\n",
    "scaler = StandardScaler()\n",
    "X_train_scaled = scaler.fit_transform(X_train)\n",
    "X_test_scaled = scaler.transform(X_test)"
   ]
  },
  {
   "cell_type": "code",
   "execution_count": 8,
   "id": "ca66c0df-0182-4568-832a-aed408c520ff",
   "metadata": {},
   "outputs": [],
   "source": [
    "# Initialize model\n",
    "knn_model = KNeighborsClassifier( n_neighbors=3)\n",
    "\n",
    "# Train model and make predictions for the test set.\n",
    "knn_model.fit(X_train_scaled, np.ravel(y_train))\n",
    "y_pred = knn_model.predict(scaler.transform(X_test))"
   ]
  },
  {
   "cell_type": "code",
   "execution_count": 9,
   "id": "db9b5894-0e29-4019-9850-b9b3e3c34575",
   "metadata": {},
   "outputs": [],
   "source": [
    "#predictions based on test data\n",
    "knn_preds = knn_model.predict(X_test_scaled)"
   ]
  },
  {
   "cell_type": "code",
   "execution_count": 10,
   "id": "aec1425d-3480-4475-9883-3ec02cbc2fe9",
   "metadata": {},
   "outputs": [
    {
     "name": "stdout",
     "output_type": "stream",
     "text": [
      "---- KNN ----\n",
      "Accuracy: 0.9958447687690769\n",
      "Classification Report:\n",
      "               precision    recall  f1-score   support\n",
      "\n",
      "           0       1.00      1.00      1.00     30026\n",
      "           1       0.99      0.99      0.99      8961\n",
      "\n",
      "    accuracy                           1.00     38987\n",
      "   macro avg       0.99      0.99      0.99     38987\n",
      "weighted avg       1.00      1.00      1.00     38987\n",
      "\n"
     ]
    },
    {
     "data": {
      "image/png": "[encoded data removed]",
      "text/plain": [
       "<Figure size 640x480 with 2 Axes>"
      ]
     },
     "metadata": {},
     "output_type": "display_data"
    }
   ],
   "source": [
    "# Evaluate models and check model accuracy\n",
    "def evaluate_model(name, y_true, y_pred):\n",
    "    print(f\"---- {name} ----\")\n",
    "    print(\"Accuracy:\", accuracy_score(y_true, y_pred))\n",
    "    print(\"Classification Report:\\n\", classification_report(y_true, y_pred))\n",
    "    cm = confusion_matrix(y_true, y_pred)\n",
    "    sns.heatmap(cm, annot=True, fmt='d', cmap='Blues')\n",
    "    plt.title(f\"{name} - Confusion Matrix\")\n",
    "    plt.xlabel('Predicted')\n",
    "    plt.ylabel('Actual')\n",
    "    plt.show()\n",
    "\n",
    "# Model evaluation\n",
    "evaluate_model(\"KNN\", y_test, knn_preds)\n"
   ]
  }
 ],
 "metadata": {
  "kernelspec": {
   "display_name": "Python [conda env:base] *",
   "language": "python",
   "name": "conda-base-py"
  },
  "language_info": {
   "codemirror_mode": {
    "name": "ipython",
    "version": 3
   },
   "file_extension": ".py",
   "mimetype": "text/x-python",
   "name": "python",
   "nbconvert_exporter": "python",
   "pygments_lexer": "ipython3",
   "version": "3.12.7"
  }
 },
 "nbformat": 4,
 "nbformat_minor": 5
}
